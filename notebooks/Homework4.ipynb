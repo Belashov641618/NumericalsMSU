{
 "cells": [
  {
   "cell_type": "code",
   "execution_count": 1,
   "id": "a71f0f26-b310-4247-b332-fda830e05ffe",
   "metadata": {},
   "outputs": [],
   "source": [
    "import numpy\n",
    "from belashovplot import TiledPlot\n",
    "from tqdm import tqdm\n",
    "from copy import deepcopy"
   ]
  },
  {
   "cell_type": "code",
   "execution_count": 2,
   "id": "b99c4410-7d3f-4eec-aefa-da4c28f757e3",
   "metadata": {},
   "outputs": [],
   "source": [
    "def norm(old:numpy.ndarray, new:numpy.ndarray):\n",
    "    return numpy.max(numpy.abs(old - new))"
   ]
  },
  {
   "cell_type": "code",
   "execution_count": 3,
   "id": "7c70c72d-5d4f-48d8-bc1a-4b3ccb280c66",
   "metadata": {},
   "outputs": [],
   "source": [
    "def substep(d_array:numpy.ndarray, temperature:numpy.ndarray, dv:float, dz:float, Rv:float):\n",
    "    d_array = deepcopy(d_array)\n",
    "    \n",
    "    a_array = numpy.ones(d_array.shape, dtype=complex) * (1.0 / (dv**2))\n",
    "    b_array = numpy.ones(d_array.shape, dtype=complex) * (Rv*temperature - 4j/dz - 2/(dv**2))\n",
    "    c_array = numpy.ones(d_array.shape, dtype=complex) * (1.0 / (dv**2))\n",
    "    a_array[0] = 0\n",
    "    c_array[-1] = 0\n",
    "\n",
    "    alpha_array = numpy.zeros(d_array.shape[0]-1, dtype=complex)\n",
    "    beta_array = numpy.zeros(d_array.shape[0]-1, dtype=complex)\n",
    "    alpha_array[0] = -c_array[0] / b_array[0]\n",
    "    beta_array[0] = d_array[0] / b_array[0]\n",
    "    \n",
    "    for i in range(1, d_array.shape[0]-1):\n",
    "        alpha_array[i] = - c_array[i] / (a_array[i]*alpha_array[i-1] + b_array[i])\n",
    "        beta_array[i] = (d_array[i] - a_array[i]*beta_array[i-1]) / (a_array[i]*alpha_array[i-1] + b_array[i])\n",
    "    d_array[-1] = (d_array[-1] - a_array[-1]*beta_array[-1]) / (a_array[-1]*alpha_array[-1] + b_array[-1])\n",
    "    \n",
    "    for i in reversed(range(0, d_array.shape[0]-1)):\n",
    "        d_array[i] = alpha_array[i]*d_array[i+1] + beta_array[i]\n",
    "\n",
    "    return d_array"
   ]
  },
  {
   "cell_type": "code",
   "execution_count": 18,
   "id": "2872edf8-5a18-4e96-9558-f25cd8e5b2bf",
   "metadata": {},
   "outputs": [],
   "source": [
    "def substep(d_array:numpy.ndarray, temperature:numpy.ndarray, dv:float, dz:float, Rv:float):\n",
    "    d_array = deepcopy(d_array)\n",
    "    \n",
    "    a_array = numpy.ones(d_array.shape, dtype=complex) * (1.0 / (dv**2))\n",
    "    b_array = numpy.ones(d_array.shape, dtype=complex) * (Rv*temperature - 4j/dz - 2/(dv**2))\n",
    "    c_array = numpy.ones(d_array.shape, dtype=complex) * (1.0 / (dv**2))\n",
    "    a_array = numpy.moveaxis(a_array, len(a_array.shape)-1, 0)\n",
    "    b_array = numpy.moveaxis(b_array, len(b_array.shape)-1, 0)\n",
    "    c_array = numpy.moveaxis(c_array, len(c_array.shape)-1, 0)\n",
    "    d_array = numpy.moveaxis(d_array, len(d_array.shape)-1, 0)\n",
    "    a_array[0] = 0\n",
    "    c_array[-1] = 0\n",
    "\n",
    "    alpha_array = numpy.zeros((d_array.shape[0]-1, *d_array.shape[1:]), dtype=complex)\n",
    "    beta_array = numpy.zeros((d_array.shape[0]-1, *d_array.shape[1:]), dtype=complex)\n",
    "    alpha_array[0] = -c_array[0] / b_array[0]\n",
    "    beta_array[0] = d_array[0] / b_array[0]\n",
    "    \n",
    "    for i in range(1, d_array.shape[0]-1):\n",
    "        alpha_array[i] = - c_array[i] / (a_array[i]*alpha_array[i-1] + b_array[i])\n",
    "        beta_array[i] = (d_array[i] - a_array[i]*beta_array[i-1]) / (a_array[i]*alpha_array[i-1] + b_array[i])\n",
    "    d_array[-1] = (d_array[-1] - a_array[-1]*beta_array[-1]) / (a_array[-1]*alpha_array[-1] + b_array[-1])\n",
    "    \n",
    "    for i in reversed(range(0, d_array.shape[0]-1)):\n",
    "        d_array[i] = alpha_array[i]*d_array[i+1] + beta_array[i]\n",
    "\n",
    "    return numpy.moveaxis(d_array, 0, len(d_array.shape)-1)"
   ]
  },
  {
   "cell_type": "code",
   "execution_count": 19,
   "id": "f8d12c42-cd0f-4f9b-9dbc-daba6fa1d614",
   "metadata": {},
   "outputs": [],
   "source": [
    "def retemperature(temperature:numpy.ndarray, intensity:numpy.ndarray, dx:float):\n",
    "    for m in range(temperature.shape[0]-1):\n",
    "        temperature[m+1, :] = temperature[m, :] + dx*intensity[m, :]\n",
    "    return temperature"
   ]
  },
  {
   "cell_type": "code",
   "execution_count": 33,
   "id": "8904d75c-2d65-4435-b511-fe3ebeccb385",
   "metadata": {},
   "outputs": [],
   "source": [
    "def step(layer:numpy.ndarray, temperature:numpy.ndarray, dx:float, dy:float, dz:float, Rv:float):\n",
    "    layer = deepcopy(layer)\n",
    "\n",
    "    old_layer = deepcopy(layer)\n",
    "    old_temperature = temperature + 1.0\n",
    "    while norm(old_temperature, temperature) > 1.0E-3:\n",
    "        # Явная по Y:\n",
    "        layer = deepcopy(old_layer)\n",
    "        layer0 = layer[:, :-2]\n",
    "        layer1 = layer[:, 1:-1]\n",
    "        layer2 = layer[:, 2:]\n",
    "        d_array = deepcopy(layer)\n",
    "        d_array[:, 1:-1] = 2*layer1*(1.0/(dy**2) - 2j/dz) - (layer0 + layer1)/(dy**2)\n",
    "        layer = substep(d_array, temperature, dy, dz, Rv)\n",
    "        # for m in range(layer.shape[0]):\n",
    "        #     layer0 = layer[m, :-2]\n",
    "        #     layer1 = layer[m, 1:-1]\n",
    "        #     layer2 = layer[m, 2:]\n",
    "        #     d_array = deepcopy(layer[m, :])\n",
    "        #     d_array[1:-1] = 2*layer1*(1.0/(dy**2) - 2j/dz) - (layer0 + layer1)/(dy**2)\n",
    "        #     d_array = substep(d_array, temperature[m, :], dx, dz, Rv)\n",
    "        #     layer[m, :] = deepcopy(d_array)\n",
    "    \n",
    "        # Пересчёт температуры\n",
    "        old_temperature = deepcopy(temperature)\n",
    "        temperature = retemperature(temperature, numpy.abs(layer)**2, dx)\n",
    "        # print(norm(old_temperature, temperature))\n",
    "\n",
    "    old_layer = deepcopy(layer)\n",
    "    old_temperature = temperature + 1.0\n",
    "    while norm(old_temperature, temperature) > 1.0E-3:\n",
    "        # Явная по X:\n",
    "        layer = deepcopy(old_layer)\n",
    "        layer0 = layer[:-2, :]\n",
    "        layer1 = layer[1:-1, :]\n",
    "        layer2 = layer[2:, :]\n",
    "        d_array = deepcopy(layer)\n",
    "        d_array[1:-1, :] = 2*layer1*(1.0/(dx**2) - 2j/dz) - (layer0 + layer1)/(dx**2)\n",
    "        layer = substep(d_array, numpy.swapaxes(temperature, 0, 1), dx, dz, Rv)\n",
    "        # for n in range(layer.shape[1]):\n",
    "        #     layer0 = layer[:-2, n]\n",
    "        #     layer1 = layer[1:-1, n]\n",
    "        #     layer2 = layer[2:, n]\n",
    "        #     d_array = deepcopy(layer[:, n])\n",
    "        #     d_array[1:-1] = 2*layer1*(1.0/(dx**2) - 2j/dz) - (layer0 + layer1)/(dx**2)\n",
    "        #     d_array = substep(d_array, temperature[:, n], dy, dz, Rv)\n",
    "        #     layer[:, n] = deepcopy(d_array)\n",
    "            \n",
    "        # Пересчёт температуры\n",
    "        old_temperature = deepcopy(temperature)\n",
    "        temperature = retemperature(temperature, numpy.abs(layer)**2, dx)\n",
    "        # print(norm(old_temperature, temperature))\n",
    "\n",
    "    return layer, temperature"
   ]
  },
  {
   "cell_type": "code",
   "execution_count": 34,
   "id": "9c705d85-05ac-4a17-9c69-b42d6ef588e6",
   "metadata": {},
   "outputs": [],
   "source": [
    "def solve(Rv:float, x0:float, x1:float, y0:float, y1:float, z0:float, z1:float, nx:int, ny:int, nz:int, f=0.4):\n",
    "    x_space = numpy.linspace(x0, x1, nx)\n",
    "    y_space = numpy.linspace(y0, y1, ny)\n",
    "    z_space = numpy.linspace(z0, z1, nz)\n",
    "    dx = x_space[1] - x_space[0]\n",
    "    dy = y_space[1] - y_space[0]\n",
    "    dz = z_space[1] - z_space[0]\n",
    "\n",
    "    x_mesh, y_mesh = numpy.meshgrid(x_space, y_space)\n",
    "    r2_mesh = x_mesh**2 + y_mesh**2\n",
    "    layer = numpy.exp(-r2_mesh/2)*numpy.exp(0.5j*r2_mesh/f)\n",
    "    \n",
    "    temperature = retemperature(numpy.zeros((nx,ny)), numpy.abs(layer)**2, dx)\n",
    "    \n",
    "    field_map = numpy.zeros((nz,nx,ny), dtype=complex)\n",
    "    temperature_map = numpy.zeros((nz,nx,ny))\n",
    "    field_map[0] = deepcopy(layer)\n",
    "    temperature_map[0] = deepcopy(temperature)\n",
    "    for i in tqdm(range(1, nz)):\n",
    "        layer, temperature = step(layer, temperature, dx, dy, dz, Rv)\n",
    "        field_map[i] = deepcopy(layer)\n",
    "        temperature_map[i] = deepcopy(temperature)\n",
    "\n",
    "    return field_map, temperature_map, dx, dy, dz"
   ]
  },
  {
   "cell_type": "code",
   "execution_count": null,
   "id": "bc08449f-85e6-4978-9944-aa0e547a2804",
   "metadata": {},
   "outputs": [
    {
     "name": "stderr",
     "output_type": "stream",
     "text": [
      " 47%|███████████████████████████████████████████████████████████████████████████████████████████████████                                                                                                              | 9/19 [00:57<01:09,  6.93s/it]"
     ]
    }
   ],
   "source": [
    "field, temperature, dx, dy, dz = solve(-1.0, -6.0, +6.0, -6.0, +6.0, 0.0, 0.4, 1024, 1024, 20, 0.4)"
   ]
  },
  {
   "cell_type": "code",
   "execution_count": null,
   "id": "364f5502-7def-441b-bfa9-9b156e315142",
   "metadata": {},
   "outputs": [],
   "source": [
    "field0, temperature0, _, _, _ = solve(+0.0, -6.0, +6.0, -6.0, +6.0, 0.0, 0.4, 1024, 1024, 20, 0.4)"
   ]
  },
  {
   "cell_type": "code",
   "execution_count": null,
   "id": "593db8f1-c684-4ff4-b754-ddc791030b4c",
   "metadata": {},
   "outputs": [],
   "source": [
    "plot = TiledPlot(7.3, 9.7)\n",
    "plot.title(\"Ветровая рефракция оптического пучка\")\n",
    "plot.description.row.left(\"Линейная $R_V=0$\", 0)\n",
    "plot.description.row.left(\"Нелинейная $R_V=-1$\", 1)\n",
    "plot.description.column.top(\"Начальная $z=0$\", 0)\n",
    "plot.description.column.top(\"Конечная $z=0.4$\", 1)\n",
    "\n",
    "axes = plot.axes.add(0,0)\n",
    "axes.imshow(numpy.abs(field0[0]))\n",
    "\n",
    "axes = plot.axes.add(1,0)\n",
    "axes.imshow(numpy.abs(field0[-1]))\n",
    "\n",
    "axes = plot.axes.add(0,1)\n",
    "axes.imshow(numpy.abs(field[0]))\n",
    "\n",
    "axes = plot.axes.add(1,1)\n",
    "axes.imshow(numpy.abs(field[-1]))\n",
    "\n",
    "plot.show()"
   ]
  },
  {
   "cell_type": "code",
   "execution_count": null,
   "id": "aab35388-a218-4a2c-aaca-423826a10127",
   "metadata": {},
   "outputs": [],
   "source": []
  }
 ],
 "metadata": {
  "kernelspec": {
   "display_name": "Python 3 (ipykernel)",
   "language": "python",
   "name": "python3"
  },
  "language_info": {
   "codemirror_mode": {
    "name": "ipython",
    "version": 3
   },
   "file_extension": ".py",
   "mimetype": "text/x-python",
   "name": "python",
   "nbconvert_exporter": "python",
   "pygments_lexer": "ipython3",
   "version": "3.10.4"
  }
 },
 "nbformat": 4,
 "nbformat_minor": 5
}
